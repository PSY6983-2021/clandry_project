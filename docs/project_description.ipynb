{
 "cells": [
  {
   "cell_type": "markdown",
   "id": "ca9acd8f",
   "metadata": {
    "slideshow": {
     "slide_type": "slide"
    }
   },
   "source": [
    "![image1](descr1.png)"
   ]
  },
  {
   "cell_type": "markdown",
   "id": "13292a20",
   "metadata": {
    "slideshow": {
     "slide_type": "slide"
    }
   },
   "source": [
    "![image2](descr2.png)"
   ]
  },
  {
   "cell_type": "markdown",
   "id": "32998a38",
   "metadata": {
    "slideshow": {
     "slide_type": "slide"
    }
   },
   "source": [
    "![image3](descr3.png)"
   ]
  },
  {
   "cell_type": "markdown",
   "id": "9c7e57e1",
   "metadata": {
    "slideshow": {
     "slide_type": "slide"
    }
   },
   "source": [
    "![image4](descr4.png)"
   ]
  },
  {
   "cell_type": "markdown",
   "id": "bff81489",
   "metadata": {
    "slideshow": {
     "slide_type": "slide"
    }
   },
   "source": [
    "![image5](descr5.png)"
   ]
  },
  {
   "cell_type": "markdown",
   "id": "23620c05",
   "metadata": {
    "slideshow": {
     "slide_type": "slide"
    }
   },
   "source": [
    "![image6](descr6.png)"
   ]
  },
  {
   "cell_type": "markdown",
   "id": "b81478e1",
   "metadata": {
    "slideshow": {
     "slide_type": "slide"
    }
   },
   "source": [
    "![image7](descr7.png)"
   ]
  },
  {
   "cell_type": "markdown",
   "id": "3d649d48",
   "metadata": {
    "slideshow": {
     "slide_type": "slide"
    }
   },
   "source": [
    "![image8](descr8.png)"
   ]
  },
  {
   "cell_type": "markdown",
   "id": "522569cf",
   "metadata": {
    "slideshow": {
     "slide_type": "slide"
    }
   },
   "source": [
    "![image9](descr9.png)"
   ]
  },
  {
   "cell_type": "code",
   "execution_count": null,
   "id": "128b7bad",
   "metadata": {},
   "outputs": [],
   "source": []
  }
 ],
 "metadata": {
  "celltoolbar": "Slideshow",
  "kernelspec": {
   "display_name": "Python 3",
   "language": "python",
   "name": "python3"
  },
  "language_info": {
   "codemirror_mode": {
    "name": "ipython",
    "version": 3
   },
   "file_extension": ".py",
   "mimetype": "text/x-python",
   "name": "python",
   "nbconvert_exporter": "python",
   "pygments_lexer": "ipython3",
   "version": "3.9.5"
  }
 },
 "nbformat": 4,
 "nbformat_minor": 5
}
