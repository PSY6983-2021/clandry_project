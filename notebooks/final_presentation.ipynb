{
 "cells": [
  {
   "cell_type": "markdown",
   "id": "9a3782e1",
   "metadata": {
    "slideshow": {
     "slide_type": "slide"
    }
   },
   "source": [
    "![001](slides/001.png)"
   ]
  },
  {
   "cell_type": "markdown",
   "id": "575df2ab",
   "metadata": {
    "slideshow": {
     "slide_type": "slide"
    }
   },
   "source": [
    "![002](slides/002.png)"
   ]
  },
  {
   "cell_type": "markdown",
   "id": "b3f48b98",
   "metadata": {
    "slideshow": {
     "slide_type": "slide"
    }
   },
   "source": [
    "![003](slides/003.png)"
   ]
  },
  {
   "cell_type": "markdown",
   "id": "64dbeb28",
   "metadata": {
    "slideshow": {
     "slide_type": "slide"
    }
   },
   "source": [
    "![004](slides/004.png)"
   ]
  },
  {
   "cell_type": "markdown",
   "id": "fab5fb54",
   "metadata": {
    "slideshow": {
     "slide_type": "slide"
    }
   },
   "source": [
    "![005](slides/005.png)"
   ]
  },
  {
   "cell_type": "markdown",
   "id": "133a1732",
   "metadata": {
    "slideshow": {
     "slide_type": "slide"
    }
   },
   "source": [
    "![006](slides/006.png)"
   ]
  },
  {
   "cell_type": "markdown",
   "id": "7129da39",
   "metadata": {
    "slideshow": {
     "slide_type": "slide"
    }
   },
   "source": [
    "![007](slides/007.png)"
   ]
  },
  {
   "cell_type": "markdown",
   "id": "a29c0f29",
   "metadata": {
    "slideshow": {
     "slide_type": "slide"
    }
   },
   "source": [
    "![008](slides/008.png)"
   ]
  },
  {
   "cell_type": "markdown",
   "id": "48b4bf4b",
   "metadata": {
    "slideshow": {
     "slide_type": "slide"
    }
   },
   "source": [
    "![009](slides/009.png)"
   ]
  },
  {
   "cell_type": "markdown",
   "id": "ee4d576f",
   "metadata": {
    "slideshow": {
     "slide_type": "slide"
    }
   },
   "source": [
    "![010](slides/010.png)"
   ]
  },
  {
   "cell_type": "markdown",
   "id": "7153f3fe",
   "metadata": {
    "slideshow": {
     "slide_type": "slide"
    }
   },
   "source": [
    "![011](slides/011.png)"
   ]
  },
  {
   "cell_type": "markdown",
   "id": "81a02d9f",
   "metadata": {
    "slideshow": {
     "slide_type": "slide"
    }
   },
   "source": [
    "![012](slides/012.png)"
   ]
  },
  {
   "cell_type": "markdown",
   "id": "04da6c9f",
   "metadata": {
    "slideshow": {
     "slide_type": "slide"
    }
   },
   "source": [
    "![013](slides/013.png)"
   ]
  },
  {
   "cell_type": "markdown",
   "id": "de27f873",
   "metadata": {
    "slideshow": {
     "slide_type": "slide"
    }
   },
   "source": [
    "![014](slides/014.png)"
   ]
  },
  {
   "cell_type": "markdown",
   "id": "6ccc29a4",
   "metadata": {
    "slideshow": {
     "slide_type": "slide"
    }
   },
   "source": [
    "![015](slides/015.png)"
   ]
  },
  {
   "cell_type": "markdown",
   "id": "5899c91a",
   "metadata": {
    "slideshow": {
     "slide_type": "slide"
    }
   },
   "source": [
    "![016](slides/016.png)"
   ]
  },
  {
   "cell_type": "markdown",
   "id": "e9f7af71",
   "metadata": {
    "slideshow": {
     "slide_type": "slide"
    }
   },
   "source": [
    "![017](slides/017.png)"
   ]
  },
  {
   "cell_type": "markdown",
   "id": "9c19dbd4",
   "metadata": {
    "slideshow": {
     "slide_type": "slide"
    }
   },
   "source": [
    "![018](slides/018.png)"
   ]
  },
  {
   "cell_type": "markdown",
   "id": "e6ebca49",
   "metadata": {
    "slideshow": {
     "slide_type": "slide"
    }
   },
   "source": [
    "![019](slides/019.png)"
   ]
  }
 ],
 "metadata": {
  "celltoolbar": "Slideshow",
  "kernelspec": {
   "display_name": "Python 3",
   "language": "python",
   "name": "python3"
  },
  "language_info": {
   "codemirror_mode": {
    "name": "ipython",
    "version": 3
   },
   "file_extension": ".py",
   "mimetype": "text/x-python",
   "name": "python",
   "nbconvert_exporter": "python",
   "pygments_lexer": "ipython3",
   "version": "3.9.5"
  }
 },
 "nbformat": 4,
 "nbformat_minor": 5
}
